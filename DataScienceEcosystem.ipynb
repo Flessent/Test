{
 "cells": [
  {
   "cell_type": "markdown",
   "id": "e47d3a6e-5d7f-4c4a-8eeb-4b95199ad290",
   "metadata": {},
   "source": [
    "# Data Science Tools and Ecosystem"
   ]
  },
  {
   "cell_type": "markdown",
   "id": "20840636-77ff-4a90-8ab2-cab01a59092d",
   "metadata": {},
   "source": [
    "## In this notebook, Data Science Tools and Ecosystem are summarized."
   ]
  },
  {
   "cell_type": "markdown",
   "id": "18d415e1-17ef-4bc4-8376-4aec9004deed",
   "metadata": {},
   "source": [
    "### **Objectives**:\n",
    "- List popular languages for Data Science\n",
    "- Create a repository and add files in Github\n",
    "- Perform a visualization in RStudio using ggplot anf GGally\n"
   ]
  },
  {
   "cell_type": "code",
   "execution_count": null,
   "id": "2fee4ec5-7b25-46bf-8e08-fe78f81165a2",
   "metadata": {},
   "outputs": [],
   "source": []
  },
  {
   "cell_type": "markdown",
   "id": "74bc1e2a-ad0e-40e0-a466-18c05bedf681",
   "metadata": {},
   "source": [
    "### Some of the popular languages that Data Scientists use are:\n",
    "\n",
    "1. Python\n",
    "2. R\n",
    "3. Julia"
   ]
  },
  {
   "cell_type": "markdown",
   "id": "ff31e76b-a4bc-40ee-b764-188dec1d84b1",
   "metadata": {},
   "source": [
    "### Some of the commonly used libraries used by Data Scientists include:\n",
    "1. Tensorflow\n",
    "2. Scikit-Learn\n",
    "3. Pandas\n",
    "4. Caret\n",
    "5. Pytoch"
   ]
  },
  {
   "cell_type": "markdown",
   "id": "3982117d-10f6-482c-9191-0a315a84a3fa",
   "metadata": {},
   "source": [
    "| Data Science Tools|\n",
    "|-------------------|\n",
    "|Jupyter Lab|\n",
    "|Visual Studio Code|\n",
    "| RStudio|"
   ]
  },
  {
   "cell_type": "markdown",
   "id": "9c22169e-5621-46ee-81d6-52a4cdaf3b06",
   "metadata": {},
   "source": [
    "### Below are a few examples of evaluating arithmetic expressions in Python."
   ]
  },
  {
   "cell_type": "code",
   "execution_count": 4,
   "id": "013a4aac-6c05-444e-9ad7-a4625b11e1c5",
   "metadata": {},
   "outputs": [
    {
     "data": {
      "text/plain": [
       "17"
      ]
     },
     "execution_count": 4,
     "metadata": {},
     "output_type": "execute_result"
    }
   ],
   "source": [
    "#This a simple arithmetic expression to mutiply then add integers\n",
    "(3*4)+5"
   ]
  },
  {
   "cell_type": "code",
   "execution_count": 6,
   "id": "fc93fc8a-d588-4894-aeba-d15c6fd0c315",
   "metadata": {},
   "outputs": [
    {
     "data": {
      "text/plain": [
       "3.3333333333333335"
      ]
     },
     "execution_count": 6,
     "metadata": {},
     "output_type": "execute_result"
    }
   ],
   "source": [
    "#This will convert 200 minutes to hours by diving by 60\n",
    "min=200\n",
    "hour=min/60\n",
    "hour"
   ]
  },
  {
   "cell_type": "markdown",
   "id": "ec7c3034-478a-4b0a-9281-74d4dae8f8c4",
   "metadata": {},
   "source": [
    "## Author\n",
    "Flessent Kouamou Ndondjang"
   ]
  }
 ],
 "metadata": {
  "kernelspec": {
   "display_name": "Python 3 (ipykernel)",
   "language": "python",
   "name": "python3"
  },
  "language_info": {
   "codemirror_mode": {
    "name": "ipython",
    "version": 3
   },
   "file_extension": ".py",
   "mimetype": "text/x-python",
   "name": "python",
   "nbconvert_exporter": "python",
   "pygments_lexer": "ipython3",
   "version": "3.10.9"
  }
 },
 "nbformat": 4,
 "nbformat_minor": 5
}
